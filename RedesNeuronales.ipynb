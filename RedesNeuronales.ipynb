{
 "cells": [
  {
   "cell_type": "code",
   "execution_count": 3,
   "id": "ecabf64e",
   "metadata": {},
   "outputs": [
    {
     "name": "stdout",
     "output_type": "stream",
     "text": [
      "Requirement already satisfied: absl-py==1.0.0 in /home/dana/.local/lib/python3.8/site-packages (from -r requirements.txt (line 1)) (1.0.0)\n",
      "Requirement already satisfied: anyio==3.6.1 in /home/dana/.local/lib/python3.8/site-packages (from -r requirements.txt (line 2)) (3.6.1)\n",
      "Requirement already satisfied: apturl==0.5.2 in /usr/lib/python3/dist-packages (from -r requirements.txt (line 3)) (0.5.2)\n",
      "Requirement already satisfied: argon2-cffi==21.3.0 in /home/dana/.local/lib/python3.8/site-packages (from -r requirements.txt (line 4)) (21.3.0)\n",
      "Requirement already satisfied: argon2-cffi-bindings==21.2.0 in /home/dana/.local/lib/python3.8/site-packages (from -r requirements.txt (line 5)) (21.2.0)\n",
      "Requirement already satisfied: asttokens==2.0.5 in /home/dana/.local/lib/python3.8/site-packages (from -r requirements.txt (line 6)) (2.0.5)\n",
      "Requirement already satisfied: astunparse==1.6.3 in /home/dana/.local/lib/python3.8/site-packages (from -r requirements.txt (line 7)) (1.6.3)\n",
      "Requirement already satisfied: attrs==21.4.0 in /home/dana/.local/lib/python3.8/site-packages (from -r requirements.txt (line 8)) (21.4.0)\n",
      "Requirement already satisfied: Babel==2.10.1 in /home/dana/.local/lib/python3.8/site-packages (from -r requirements.txt (line 9)) (2.10.1)\n",
      "Requirement already satisfied: backcall==0.2.0 in /home/dana/.local/lib/python3.8/site-packages (from -r requirements.txt (line 10)) (0.2.0)\n",
      "Requirement already satisfied: bcrypt==3.1.7 in /usr/lib/python3/dist-packages (from -r requirements.txt (line 11)) (3.1.7)\n",
      "Requirement already satisfied: beautifulsoup4==4.11.1 in /home/dana/.local/lib/python3.8/site-packages (from -r requirements.txt (line 12)) (4.11.1)\n",
      "Requirement already satisfied: bleach==5.0.0 in /home/dana/.local/lib/python3.8/site-packages (from -r requirements.txt (line 13)) (5.0.0)\n",
      "Requirement already satisfied: blinker==1.4 in /usr/lib/python3/dist-packages (from -r requirements.txt (line 14)) (1.4)\n",
      "Requirement already satisfied: Brlapi==0.7.0 in /usr/lib/python3/dist-packages (from -r requirements.txt (line 15)) (0.7.0)\n",
      "Requirement already satisfied: cachetools==5.1.0 in /home/dana/.local/lib/python3.8/site-packages (from -r requirements.txt (line 16)) (5.1.0)\n",
      "Requirement already satisfied: certifi==2019.11.28 in /usr/lib/python3/dist-packages (from -r requirements.txt (line 17)) (2019.11.28)\n",
      "Requirement already satisfied: cffi==1.15.0 in /home/dana/.local/lib/python3.8/site-packages (from -r requirements.txt (line 18)) (1.15.0)\n",
      "Requirement already satisfied: chardet==3.0.4 in /usr/lib/python3/dist-packages (from -r requirements.txt (line 19)) (3.0.4)\n",
      "Requirement already satisfied: Click==7.0 in /usr/lib/python3/dist-packages (from -r requirements.txt (line 20)) (7.0)\n",
      "Requirement already satisfied: colorama==0.4.3 in /usr/lib/python3/dist-packages (from -r requirements.txt (line 21)) (0.4.3)\n",
      "Requirement already satisfied: command-not-found==0.3 in /usr/lib/python3/dist-packages (from -r requirements.txt (line 22)) (0.3)\n",
      "Requirement already satisfied: cryptography==2.8 in /usr/lib/python3/dist-packages (from -r requirements.txt (line 23)) (2.8)\n",
      "Requirement already satisfied: cupshelpers==1.0 in /usr/lib/python3/dist-packages (from -r requirements.txt (line 24)) (1.0)\n",
      "Requirement already satisfied: cycler==0.11.0 in /home/dana/.local/lib/python3.8/site-packages (from -r requirements.txt (line 25)) (0.11.0)\n",
      "Requirement already satisfied: dbus-python==1.2.16 in /usr/lib/python3/dist-packages (from -r requirements.txt (line 26)) (1.2.16)\n",
      "Requirement already satisfied: debugpy==1.6.0 in /home/dana/.local/lib/python3.8/site-packages (from -r requirements.txt (line 27)) (1.6.0)\n",
      "Requirement already satisfied: decorator==5.1.1 in /home/dana/.local/lib/python3.8/site-packages (from -r requirements.txt (line 28)) (5.1.1)\n",
      "Requirement already satisfied: defer==1.0.6 in /usr/lib/python3/dist-packages (from -r requirements.txt (line 29)) (1.0.6)\n",
      "Requirement already satisfied: defusedxml==0.7.1 in /home/dana/.local/lib/python3.8/site-packages (from -r requirements.txt (line 30)) (0.7.1)\n",
      "Requirement already satisfied: distro==1.4.0 in /usr/lib/python3/dist-packages (from -r requirements.txt (line 31)) (1.4.0)\n",
      "Requirement already satisfied: distro-info===0.23ubuntu1 in /usr/lib/python3/dist-packages (from -r requirements.txt (line 32)) (0.23ubuntu1)\n",
      "Requirement already satisfied: duplicity==0.8.12.0 in /usr/lib/python3/dist-packages (from -r requirements.txt (line 33)) (0.8.12.0)\n",
      "Requirement already satisfied: entrypoints==0.3 in /usr/lib/python3/dist-packages (from -r requirements.txt (line 34)) (0.3)\n",
      "Requirement already satisfied: executing==0.8.3 in /home/dana/.local/lib/python3.8/site-packages (from -r requirements.txt (line 35)) (0.8.3)\n",
      "Requirement already satisfied: fasteners==0.14.1 in /usr/lib/python3/dist-packages (from -r requirements.txt (line 36)) (0.14.1)\n",
      "Requirement already satisfied: fastjsonschema==2.15.3 in /home/dana/.local/lib/python3.8/site-packages (from -r requirements.txt (line 37)) (2.15.3)\n",
      "Requirement already satisfied: flatbuffers==1.12 in /home/dana/.local/lib/python3.8/site-packages (from -r requirements.txt (line 38)) (1.12)\n",
      "Requirement already satisfied: fonttools==4.33.3 in /home/dana/.local/lib/python3.8/site-packages (from -r requirements.txt (line 39)) (4.33.3)\n",
      "Requirement already satisfied: future==0.18.2 in /usr/lib/python3/dist-packages (from -r requirements.txt (line 40)) (0.18.2)\n",
      "Requirement already satisfied: gast==0.4.0 in /home/dana/.local/lib/python3.8/site-packages (from -r requirements.txt (line 41)) (0.4.0)\n",
      "Requirement already satisfied: glob2==0.7 in /home/dana/.local/lib/python3.8/site-packages (from -r requirements.txt (line 42)) (0.7)\n",
      "Requirement already satisfied: google-auth==2.6.6 in /home/dana/.local/lib/python3.8/site-packages (from -r requirements.txt (line 43)) (2.6.6)\n",
      "Requirement already satisfied: google-auth-oauthlib==0.4.6 in /home/dana/.local/lib/python3.8/site-packages (from -r requirements.txt (line 44)) (0.4.6)\n",
      "Requirement already satisfied: google-pasta==0.2.0 in /home/dana/.local/lib/python3.8/site-packages (from -r requirements.txt (line 45)) (0.2.0)\n",
      "Requirement already satisfied: grpcio==1.46.3 in /home/dana/.local/lib/python3.8/site-packages (from -r requirements.txt (line 46)) (1.46.3)\n",
      "Requirement already satisfied: h5py==3.7.0 in /home/dana/.local/lib/python3.8/site-packages (from -r requirements.txt (line 47)) (3.7.0)\n",
      "Requirement already satisfied: httplib2==0.14.0 in /usr/lib/python3/dist-packages (from -r requirements.txt (line 48)) (0.14.0)\n",
      "Requirement already satisfied: idna==2.8 in /usr/lib/python3/dist-packages (from -r requirements.txt (line 49)) (2.8)\n",
      "Requirement already satisfied: importlib-metadata==4.11.4 in /home/dana/.local/lib/python3.8/site-packages (from -r requirements.txt (line 50)) (4.11.4)\n",
      "Requirement already satisfied: importlib-resources==5.7.1 in /home/dana/.local/lib/python3.8/site-packages (from -r requirements.txt (line 51)) (5.7.1)\n",
      "Requirement already satisfied: ipykernel==6.13.0 in /home/dana/.local/lib/python3.8/site-packages (from -r requirements.txt (line 52)) (6.13.0)\n",
      "Requirement already satisfied: ipython==8.3.0 in /home/dana/.local/lib/python3.8/site-packages (from -r requirements.txt (line 53)) (8.3.0)\n",
      "Requirement already satisfied: ipython-genutils==0.2.0 in /home/dana/.local/lib/python3.8/site-packages (from -r requirements.txt (line 54)) (0.2.0)\n",
      "Requirement already satisfied: jedi==0.18.1 in /home/dana/.local/lib/python3.8/site-packages (from -r requirements.txt (line 55)) (0.18.1)\n",
      "Requirement already satisfied: Jinja2==3.1.2 in /home/dana/.local/lib/python3.8/site-packages (from -r requirements.txt (line 56)) (3.1.2)\n",
      "Requirement already satisfied: json5==0.9.8 in /home/dana/.local/lib/python3.8/site-packages (from -r requirements.txt (line 57)) (0.9.8)\n",
      "Requirement already satisfied: jsonschema==4.5.1 in /home/dana/.local/lib/python3.8/site-packages (from -r requirements.txt (line 58)) (4.5.1)\n",
      "Requirement already satisfied: jupyter-client==7.3.1 in /home/dana/.local/lib/python3.8/site-packages (from -r requirements.txt (line 59)) (7.3.1)\n",
      "Requirement already satisfied: jupyter-core==4.10.0 in /home/dana/.local/lib/python3.8/site-packages (from -r requirements.txt (line 60)) (4.10.0)\n",
      "Requirement already satisfied: jupyter-server==1.17.0 in /home/dana/.local/lib/python3.8/site-packages (from -r requirements.txt (line 61)) (1.17.0)\n",
      "Requirement already satisfied: jupyterlab==3.4.2 in /home/dana/.local/lib/python3.8/site-packages (from -r requirements.txt (line 62)) (3.4.2)\n",
      "Requirement already satisfied: jupyterlab-pygments==0.2.2 in /home/dana/.local/lib/python3.8/site-packages (from -r requirements.txt (line 63)) (0.2.2)\n",
      "Requirement already satisfied: jupyterlab-server==2.14.0 in /home/dana/.local/lib/python3.8/site-packages (from -r requirements.txt (line 64)) (2.14.0)\n",
      "Requirement already satisfied: keras==2.9.0 in /home/dana/.local/lib/python3.8/site-packages (from -r requirements.txt (line 65)) (2.9.0)\n",
      "Requirement already satisfied: Keras-Preprocessing==1.1.2 in /home/dana/.local/lib/python3.8/site-packages (from -r requirements.txt (line 66)) (1.1.2)\n",
      "Requirement already satisfied: keyring==18.0.1 in /usr/lib/python3/dist-packages (from -r requirements.txt (line 67)) (18.0.1)\n"
     ]
    },
    {
     "name": "stdout",
     "output_type": "stream",
     "text": [
      "Requirement already satisfied: kiwisolver==1.4.2 in /home/dana/.local/lib/python3.8/site-packages (from -r requirements.txt (line 68)) (1.4.2)\n",
      "Requirement already satisfied: language-selector==0.1 in /usr/lib/python3/dist-packages (from -r requirements.txt (line 69)) (0.1)\n",
      "Requirement already satisfied: launchpadlib==1.10.13 in /usr/lib/python3/dist-packages (from -r requirements.txt (line 70)) (1.10.13)\n",
      "Requirement already satisfied: lazr.restfulclient==0.14.2 in /usr/lib/python3/dist-packages (from -r requirements.txt (line 71)) (0.14.2)\n",
      "Requirement already satisfied: lazr.uri==1.0.3 in /usr/lib/python3/dist-packages (from -r requirements.txt (line 72)) (1.0.3)\n",
      "Requirement already satisfied: libclang==14.0.1 in /home/dana/.local/lib/python3.8/site-packages (from -r requirements.txt (line 73)) (14.0.1)\n",
      "Requirement already satisfied: lockfile==0.12.2 in /usr/lib/python3/dist-packages (from -r requirements.txt (line 74)) (0.12.2)\n",
      "Requirement already satisfied: louis==3.12.0 in /usr/lib/python3/dist-packages (from -r requirements.txt (line 75)) (3.12.0)\n",
      "Requirement already satisfied: macaroonbakery==1.3.1 in /usr/lib/python3/dist-packages (from -r requirements.txt (line 76)) (1.3.1)\n",
      "Requirement already satisfied: Mako==1.1.0 in /usr/lib/python3/dist-packages (from -r requirements.txt (line 77)) (1.1.0)\n",
      "Requirement already satisfied: Markdown==3.3.7 in /home/dana/.local/lib/python3.8/site-packages (from -r requirements.txt (line 78)) (3.3.7)\n",
      "Requirement already satisfied: MarkupSafe==2.1.1 in /home/dana/.local/lib/python3.8/site-packages (from -r requirements.txt (line 79)) (2.1.1)\n",
      "Requirement already satisfied: matplotlib==3.5.2 in /home/dana/.local/lib/python3.8/site-packages (from -r requirements.txt (line 80)) (3.5.2)\n",
      "Requirement already satisfied: matplotlib-inline==0.1.3 in /home/dana/.local/lib/python3.8/site-packages (from -r requirements.txt (line 81)) (0.1.3)\n",
      "Requirement already satisfied: mistune==0.8.4 in /home/dana/.local/lib/python3.8/site-packages (from -r requirements.txt (line 82)) (0.8.4)\n",
      "Requirement already satisfied: monotonic==1.5 in /usr/lib/python3/dist-packages (from -r requirements.txt (line 83)) (1.5)\n",
      "Requirement already satisfied: nbclassic==0.3.7 in /home/dana/.local/lib/python3.8/site-packages (from -r requirements.txt (line 84)) (0.3.7)\n",
      "Requirement already satisfied: nbclient==0.6.3 in /home/dana/.local/lib/python3.8/site-packages (from -r requirements.txt (line 85)) (0.6.3)\n",
      "Requirement already satisfied: nbconvert==6.5.0 in /home/dana/.local/lib/python3.8/site-packages (from -r requirements.txt (line 86)) (6.5.0)\n",
      "Requirement already satisfied: nbformat==5.4.0 in /home/dana/.local/lib/python3.8/site-packages (from -r requirements.txt (line 87)) (5.4.0)\n",
      "Requirement already satisfied: nest-asyncio==1.5.5 in /home/dana/.local/lib/python3.8/site-packages (from -r requirements.txt (line 88)) (1.5.5)\n",
      "Requirement already satisfied: netifaces==0.10.4 in /usr/lib/python3/dist-packages (from -r requirements.txt (line 89)) (0.10.4)\n",
      "Requirement already satisfied: notebook==6.4.11 in /home/dana/.local/lib/python3.8/site-packages (from -r requirements.txt (line 90)) (6.4.11)\n",
      "Requirement already satisfied: notebook-shim==0.1.0 in /home/dana/.local/lib/python3.8/site-packages (from -r requirements.txt (line 91)) (0.1.0)\n",
      "Requirement already satisfied: numpy==1.22.4 in /home/dana/.local/lib/python3.8/site-packages (from -r requirements.txt (line 92)) (1.22.4)\n",
      "Requirement already satisfied: oauthlib==3.1.0 in /usr/lib/python3/dist-packages (from -r requirements.txt (line 93)) (3.1.0)\n",
      "Requirement already satisfied: olefile==0.46 in /usr/lib/python3/dist-packages (from -r requirements.txt (line 94)) (0.46)\n",
      "Requirement already satisfied: opencv-python==4.5.5.64 in /home/dana/.local/lib/python3.8/site-packages (from -r requirements.txt (line 95)) (4.5.5.64)\n",
      "Requirement already satisfied: opt-einsum==3.3.0 in /home/dana/.local/lib/python3.8/site-packages (from -r requirements.txt (line 96)) (3.3.0)\n",
      "Requirement already satisfied: packaging==21.3 in /home/dana/.local/lib/python3.8/site-packages (from -r requirements.txt (line 97)) (21.3)\n",
      "Requirement already satisfied: pandas==1.4.2 in /home/dana/.local/lib/python3.8/site-packages (from -r requirements.txt (line 98)) (1.4.2)\n",
      "Requirement already satisfied: pandocfilters==1.5.0 in /home/dana/.local/lib/python3.8/site-packages (from -r requirements.txt (line 99)) (1.5.0)\n",
      "Requirement already satisfied: paramiko==2.6.0 in /usr/lib/python3/dist-packages (from -r requirements.txt (line 100)) (2.6.0)\n",
      "Requirement already satisfied: parso==0.8.3 in /home/dana/.local/lib/python3.8/site-packages (from -r requirements.txt (line 101)) (0.8.3)\n",
      "Requirement already satisfied: pexpect==4.6.0 in /usr/lib/python3/dist-packages (from -r requirements.txt (line 102)) (4.6.0)\n",
      "Requirement already satisfied: pickleshare==0.7.5 in /home/dana/.local/lib/python3.8/site-packages (from -r requirements.txt (line 103)) (0.7.5)\n",
      "Requirement already satisfied: Pillow==7.0.0 in /usr/lib/python3/dist-packages (from -r requirements.txt (line 104)) (7.0.0)\n",
      "Requirement already satisfied: prometheus-client==0.14.1 in /home/dana/.local/lib/python3.8/site-packages (from -r requirements.txt (line 105)) (0.14.1)\n",
      "Requirement already satisfied: prompt-toolkit==3.0.29 in /home/dana/.local/lib/python3.8/site-packages (from -r requirements.txt (line 106)) (3.0.29)\n",
      "Requirement already satisfied: protobuf==3.19.4 in /home/dana/.local/lib/python3.8/site-packages (from -r requirements.txt (line 107)) (3.19.4)\n",
      "Requirement already satisfied: psutil==5.9.1 in /home/dana/.local/lib/python3.8/site-packages (from -r requirements.txt (line 108)) (5.9.1)\n",
      "Requirement already satisfied: ptyprocess==0.7.0 in /home/dana/.local/lib/python3.8/site-packages (from -r requirements.txt (line 109)) (0.7.0)\n",
      "Requirement already satisfied: pure-eval==0.2.2 in /home/dana/.local/lib/python3.8/site-packages (from -r requirements.txt (line 110)) (0.2.2)\n",
      "Requirement already satisfied: pyasn1==0.4.8 in /home/dana/.local/lib/python3.8/site-packages (from -r requirements.txt (line 111)) (0.4.8)\n",
      "Requirement already satisfied: pyasn1-modules==0.2.8 in /home/dana/.local/lib/python3.8/site-packages (from -r requirements.txt (line 112)) (0.2.8)\n",
      "Requirement already satisfied: pycairo==1.16.2 in /usr/lib/python3/dist-packages (from -r requirements.txt (line 113)) (1.16.2)\n",
      "Requirement already satisfied: pycparser==2.21 in /home/dana/.local/lib/python3.8/site-packages (from -r requirements.txt (line 114)) (2.21)\n",
      "Requirement already satisfied: pycups==1.9.73 in /usr/lib/python3/dist-packages (from -r requirements.txt (line 115)) (1.9.73)\n",
      "Requirement already satisfied: Pygments==2.12.0 in /home/dana/.local/lib/python3.8/site-packages (from -r requirements.txt (line 116)) (2.12.0)\n",
      "Requirement already satisfied: PyGObject==3.36.0 in /usr/lib/python3/dist-packages (from -r requirements.txt (line 117)) (3.36.0)\n",
      "Requirement already satisfied: PyJWT==1.7.1 in /usr/lib/python3/dist-packages (from -r requirements.txt (line 118)) (1.7.1)\n",
      "Requirement already satisfied: pymacaroons==0.13.0 in /usr/lib/python3/dist-packages (from -r requirements.txt (line 119)) (0.13.0)\n",
      "Requirement already satisfied: PyNaCl==1.3.0 in /usr/lib/python3/dist-packages (from -r requirements.txt (line 120)) (1.3.0)\n",
      "Requirement already satisfied: pyparsing==3.0.9 in /home/dana/.local/lib/python3.8/site-packages (from -r requirements.txt (line 121)) (3.0.9)\n",
      "Requirement already satisfied: pyRFC3339==1.1 in /usr/lib/python3/dist-packages (from -r requirements.txt (line 122)) (1.1)\n",
      "Requirement already satisfied: pyrsistent==0.18.1 in /home/dana/.local/lib/python3.8/site-packages (from -r requirements.txt (line 123)) (0.18.1)\n",
      "Requirement already satisfied: python-apt==2.0.0+ubuntu0.20.4.6 in /usr/lib/python3/dist-packages (from -r requirements.txt (line 124)) (2.0.0+ubuntu0.20.4.6)\n",
      "Requirement already satisfied: python-dateutil==2.8.2 in /home/dana/.local/lib/python3.8/site-packages (from -r requirements.txt (line 125)) (2.8.2)\n",
      "Requirement already satisfied: python-debian===0.1.36ubuntu1 in /usr/lib/python3/dist-packages (from -r requirements.txt (line 126)) (0.1.36ubuntu1)\n",
      "Requirement already satisfied: pytz==2022.1 in /home/dana/.local/lib/python3.8/site-packages (from -r requirements.txt (line 127)) (2022.1)\n",
      "Requirement already satisfied: pyxdg==0.26 in /usr/lib/python3/dist-packages (from -r requirements.txt (line 128)) (0.26)\n",
      "Requirement already satisfied: PyYAML==5.3.1 in /usr/lib/python3/dist-packages (from -r requirements.txt (line 129)) (5.3.1)\n",
      "Requirement already satisfied: pyzmq==23.0.0 in /home/dana/.local/lib/python3.8/site-packages (from -r requirements.txt (line 130)) (23.0.0)\n",
      "Requirement already satisfied: reportlab==3.5.34 in /usr/lib/python3/dist-packages (from -r requirements.txt (line 131)) (3.5.34)\n"
     ]
    },
    {
     "name": "stdout",
     "output_type": "stream",
     "text": [
      "Requirement already satisfied: requests==2.22.0 in /usr/lib/python3/dist-packages (from -r requirements.txt (line 132)) (2.22.0)\n",
      "Requirement already satisfied: requests-oauthlib==1.3.1 in /home/dana/.local/lib/python3.8/site-packages (from -r requirements.txt (line 133)) (1.3.1)\n",
      "Requirement already satisfied: requests-unixsocket==0.2.0 in /usr/lib/python3/dist-packages (from -r requirements.txt (line 134)) (0.2.0)\n",
      "Requirement already satisfied: rsa==4.8 in /home/dana/.local/lib/python3.8/site-packages (from -r requirements.txt (line 135)) (4.8)\n",
      "Requirement already satisfied: scipy==1.8.1 in /home/dana/.local/lib/python3.8/site-packages (from -r requirements.txt (line 136)) (1.8.1)\n",
      "Requirement already satisfied: seaborn==0.11.2 in /home/dana/.local/lib/python3.8/site-packages (from -r requirements.txt (line 137)) (0.11.2)\n",
      "Requirement already satisfied: SecretStorage==2.3.1 in /usr/lib/python3/dist-packages (from -r requirements.txt (line 138)) (2.3.1)\n",
      "Requirement already satisfied: Send2Trash==1.8.0 in /home/dana/.local/lib/python3.8/site-packages (from -r requirements.txt (line 139)) (1.8.0)\n",
      "Requirement already satisfied: simplejson==3.16.0 in /usr/lib/python3/dist-packages (from -r requirements.txt (line 140)) (3.16.0)\n",
      "Requirement already satisfied: six==1.14.0 in /usr/lib/python3/dist-packages (from -r requirements.txt (line 141)) (1.14.0)\n",
      "Requirement already satisfied: sniffio==1.2.0 in /home/dana/.local/lib/python3.8/site-packages (from -r requirements.txt (line 142)) (1.2.0)\n",
      "Requirement already satisfied: soupsieve==2.3.2.post1 in /home/dana/.local/lib/python3.8/site-packages (from -r requirements.txt (line 143)) (2.3.2.post1)\n",
      "Requirement already satisfied: stack-data==0.2.0 in /home/dana/.local/lib/python3.8/site-packages (from -r requirements.txt (line 144)) (0.2.0)\n",
      "Requirement already satisfied: systemd-python==234 in /usr/lib/python3/dist-packages (from -r requirements.txt (line 145)) (234)\n",
      "Requirement already satisfied: tensorboard==2.9.0 in /home/dana/.local/lib/python3.8/site-packages (from -r requirements.txt (line 146)) (2.9.0)\n",
      "Requirement already satisfied: tensorboard-data-server==0.6.1 in /home/dana/.local/lib/python3.8/site-packages (from -r requirements.txt (line 147)) (0.6.1)\n",
      "Requirement already satisfied: tensorboard-plugin-wit==1.8.1 in /home/dana/.local/lib/python3.8/site-packages (from -r requirements.txt (line 148)) (1.8.1)\n",
      "Requirement already satisfied: tensorflow==2.9.1 in /home/dana/.local/lib/python3.8/site-packages (from -r requirements.txt (line 149)) (2.9.1)\n",
      "Requirement already satisfied: tensorflow-estimator==2.9.0 in /home/dana/.local/lib/python3.8/site-packages (from -r requirements.txt (line 150)) (2.9.0)\n",
      "Requirement already satisfied: tensorflow-io-gcs-filesystem==0.26.0 in /home/dana/.local/lib/python3.8/site-packages (from -r requirements.txt (line 151)) (0.26.0)\n",
      "Requirement already satisfied: termcolor==1.1.0 in /home/dana/.local/lib/python3.8/site-packages (from -r requirements.txt (line 152)) (1.1.0)\n",
      "Requirement already satisfied: terminado==0.15.0 in /home/dana/.local/lib/python3.8/site-packages (from -r requirements.txt (line 153)) (0.15.0)\n",
      "Requirement already satisfied: tinycss2==1.1.1 in /home/dana/.local/lib/python3.8/site-packages (from -r requirements.txt (line 154)) (1.1.1)\n",
      "Requirement already satisfied: tornado==6.1 in /home/dana/.local/lib/python3.8/site-packages (from -r requirements.txt (line 155)) (6.1)\n",
      "Requirement already satisfied: traitlets==5.2.1.post0 in /home/dana/.local/lib/python3.8/site-packages (from -r requirements.txt (line 156)) (5.2.1.post0)\n",
      "Requirement already satisfied: typing-extensions==4.2.0 in /home/dana/.local/lib/python3.8/site-packages (from -r requirements.txt (line 157)) (4.2.0)\n",
      "Requirement already satisfied: ubuntu-advantage-tools==27.5 in /usr/lib/python3/dist-packages (from -r requirements.txt (line 158)) (27.5)\n",
      "Requirement already satisfied: ubuntu-drivers-common==0.0.0 in /usr/lib/python3/dist-packages (from -r requirements.txt (line 159)) (0.0.0)\n",
      "Requirement already satisfied: ufw==0.36 in /usr/lib/python3/dist-packages (from -r requirements.txt (line 160)) (0.36)\n",
      "Requirement already satisfied: unattended-upgrades==0.1 in /usr/lib/python3/dist-packages (from -r requirements.txt (line 161)) (0.1)\n",
      "Requirement already satisfied: urllib3==1.25.8 in /usr/lib/python3/dist-packages (from -r requirements.txt (line 162)) (1.25.8)\n",
      "Requirement already satisfied: usb-creator==0.3.7 in /usr/lib/python3/dist-packages (from -r requirements.txt (line 163)) (0.3.7)\n",
      "Requirement already satisfied: wadllib==1.3.3 in /usr/lib/python3/dist-packages (from -r requirements.txt (line 164)) (1.3.3)\n",
      "Requirement already satisfied: wcwidth==0.2.5 in /home/dana/.local/lib/python3.8/site-packages (from -r requirements.txt (line 165)) (0.2.5)\n",
      "Requirement already satisfied: webencodings==0.5.1 in /home/dana/.local/lib/python3.8/site-packages (from -r requirements.txt (line 166)) (0.5.1)\n",
      "Requirement already satisfied: websocket-client==1.3.2 in /home/dana/.local/lib/python3.8/site-packages (from -r requirements.txt (line 167)) (1.3.2)\n",
      "Requirement already satisfied: Werkzeug==2.1.2 in /home/dana/.local/lib/python3.8/site-packages (from -r requirements.txt (line 168)) (2.1.2)\n",
      "Requirement already satisfied: wrapt==1.14.1 in /home/dana/.local/lib/python3.8/site-packages (from -r requirements.txt (line 169)) (1.14.1)\n",
      "Requirement already satisfied: xkit==0.0.0 in /usr/lib/python3/dist-packages (from -r requirements.txt (line 170)) (0.0.0)\n",
      "Requirement already satisfied: zipp==3.8.0 in /home/dana/.local/lib/python3.8/site-packages (from -r requirements.txt (line 171)) (3.8.0)\n",
      "Requirement already satisfied: wheel<1.0,>=0.23.0 in /usr/lib/python3/dist-packages (from astunparse==1.6.3->-r requirements.txt (line 7)) (0.34.2)\n",
      "Requirement already satisfied: setuptools>=18.5 in /usr/lib/python3/dist-packages (from ipython==8.3.0->-r requirements.txt (line 53)) (45.2.0)\n",
      "Requirement already satisfied: testresources in /home/dana/.local/lib/python3.8/site-packages (from launchpadlib==1.10.13->-r requirements.txt (line 70)) (2.0.1)\n",
      "Requirement already satisfied: pbr>=1.8 in /home/dana/.local/lib/python3.8/site-packages (from testresources->launchpadlib==1.10.13->-r requirements.txt (line 70)) (5.9.0)\n",
      "Note: you may need to restart the kernel to use updated packages.\n"
     ]
    }
   ],
   "source": [
    "pip install -r requirements.txt"
   ]
  },
  {
   "cell_type": "code",
   "execution_count": 4,
   "id": "f54f2e68",
   "metadata": {},
   "outputs": [
    {
     "name": "stderr",
     "output_type": "stream",
     "text": [
      "2022-06-23 21:21:12.067959: I tensorflow/core/util/util.cc:169] oneDNN custom operations are on. You may see slightly different numerical results due to floating-point round-off errors from different computation orders. To turn them off, set the environment variable `TF_ENABLE_ONEDNN_OPTS=0`.\n",
      "2022-06-23 21:21:12.110604: W tensorflow/stream_executor/platform/default/dso_loader.cc:64] Could not load dynamic library 'libcudart.so.11.0'; dlerror: libcudart.so.11.0: cannot open shared object file: No such file or directory; LD_LIBRARY_PATH: /home/dana/.local/lib/python3.8/site-packages/cv2/../../lib64:\n",
      "2022-06-23 21:21:12.110618: I tensorflow/stream_executor/cuda/cudart_stub.cc:29] Ignore above cudart dlerror if you do not have a GPU set up on your machine.\n"
     ]
    }
   ],
   "source": [
    "import pandas as pd\n",
    "import numpy as np\n",
    "import seaborn as sns\n",
    "import glob\n",
    "import cv2 as cv\n",
    "import tensorflow as tf\n",
    "import matplotlib\n",
    "import matplotlib.pyplot as plt\n",
    "import matplotlib.image as mpimg\n",
    "%matplotlib inline\n",
    "\n",
    "from tensorflow.keras.preprocessing.image import ImageDataGenerator,load_img"
   ]
  },
  {
   "cell_type": "code",
   "execution_count": 5,
   "id": "03a299b7",
   "metadata": {},
   "outputs": [
    {
     "data": {
      "text/plain": [
       "'1.4.2'"
      ]
     },
     "execution_count": 5,
     "metadata": {},
     "output_type": "execute_result"
    }
   ],
   "source": [
    "pd.__version__"
   ]
  },
  {
   "cell_type": "code",
   "execution_count": 6,
   "id": "94bc4fa7",
   "metadata": {},
   "outputs": [
    {
     "data": {
      "text/plain": [
       "'1.22.4'"
      ]
     },
     "execution_count": 6,
     "metadata": {},
     "output_type": "execute_result"
    }
   ],
   "source": [
    "np.__version__"
   ]
  },
  {
   "cell_type": "code",
   "execution_count": 7,
   "id": "3da6acda",
   "metadata": {},
   "outputs": [
    {
     "data": {
      "text/plain": [
       "'0.11.2'"
      ]
     },
     "execution_count": 7,
     "metadata": {},
     "output_type": "execute_result"
    }
   ],
   "source": [
    "sns.__version__"
   ]
  },
  {
   "cell_type": "code",
   "execution_count": 8,
   "id": "ac9a0736",
   "metadata": {},
   "outputs": [
    {
     "data": {
      "text/plain": [
       "'3.5.2'"
      ]
     },
     "execution_count": 8,
     "metadata": {},
     "output_type": "execute_result"
    }
   ],
   "source": [
    "matplotlib.__version__"
   ]
  },
  {
   "cell_type": "code",
   "execution_count": 9,
   "id": "a11e3832",
   "metadata": {},
   "outputs": [
    {
     "name": "stdout",
     "output_type": "stream",
     "text": [
      "/home/dana/redes-neuronales/pneumonia-cnn-classifier/chest_xray\n"
     ]
    }
   ],
   "source": [
    "current_directory = !pwd\n",
    "path = current_directory[0] + '/chest_xray'\n",
    "print(path)"
   ]
  },
  {
   "cell_type": "code",
   "execution_count": 10,
   "id": "595e52ab",
   "metadata": {},
   "outputs": [
    {
     "name": "stdout",
     "output_type": "stream",
     "text": [
      "Requirement already satisfied: Pillow in /usr/lib/python3/dist-packages (7.0.0)\r\n"
     ]
    }
   ],
   "source": [
    "!pip install Pillow\n",
    "from PIL import Image"
   ]
  },
  {
   "cell_type": "code",
   "execution_count": 25,
   "id": "c760eabb",
   "metadata": {},
   "outputs": [
    {
     "name": "stdout",
     "output_type": "stream",
     "text": [
      "5856\n"
     ]
    }
   ],
   "source": [
    "import os\n",
    "\n",
    "normal_train = len(next(os.walk(path + '/train/NORMAL'))[2])\n",
    "pneumonia_train = len(next(os.walk(path + '/train/PNEUMONIA'))[2])\n",
    "normal_test = len(next(os.walk(path + '/test/NORMAL'))[2])\n",
    "pneumonia_test = len(next(os.walk(path + '/test/PNEUMONIA'))[2])\n",
    "normal_val = len(next(os.walk(path + '/val/NORMAL'))[2])\n",
    "pneumonia_val = len(next(os.walk(path + '/val/PNEUMONIA'))[2])\n",
    "print(normal_train + pneumonia_train + normal_test + pneumonia_test +normal_val + pneumonia_val)"
   ]
  },
  {
   "cell_type": "code",
   "execution_count": 24,
   "id": "0f5d2e96",
   "metadata": {},
   "outputs": [
    {
     "data": {
      "image/png": "[encoded data removed]",
      "text/plain": [
       "<Figure size 432x288 with 1 Axes>"
      ]
     },
     "metadata": {
      "needs_background": "light"
     },
     "output_type": "display_data"
    }
   ],
   "source": [
    "labels = ['train', 'test', 'validation']\n",
    "normal = [normal_train, normal_test, normal_val ]\n",
    "pneumonia = [pneumonia_train, pneumonia_test,pneumonia_val ]\n",
    "\n",
    "x = np.arange(len(labels))\n",
    "width = 0.30  # the width of the bars\n",
    "\n",
    "fig, ax = plt.subplots()\n",
    "rects1 = ax.bar(x - width/2, normal, width, label='Normal')\n",
    "rects2 = ax.bar(x + width/2, pneumonia, width, label='Neumonia')\n",
    "\n",
    "ax.set_ylabel('Valores')\n",
    "ax.set_xticks(x)\n",
    "ax.set_xticklabels(labels)\n",
    "ax.legend()\n",
    "\n",
    "plt.show()"
   ]
  },
  {
   "cell_type": "code",
   "execution_count": null,
   "id": "8ad16f2f",
   "metadata": {},
   "outputs": [],
   "source": [
    "###################################################################################################################"
   ]
  },
  {
   "cell_type": "code",
   "execution_count": 12,
   "id": "01d9e2e5",
   "metadata": {},
   "outputs": [
    {
     "name": "stdout",
     "output_type": "stream",
     "text": [
      "Found 5216 images belonging to 2 classes.\n",
      "Found 16 images belonging to 2 classes.\n",
      "Found 624 images belonging to 2 classes.\n"
     ]
    }
   ],
   "source": [
    "train_dir = current_directory[0] + \"/chest_xray/train\"\n",
    "test_dir = current_directory[0] + \"/chest_xray/test\"\n",
    "val_dir = current_directory[0] + \"/chest_xray/val\"\n",
    "\n",
    "img_Datagen = ImageDataGenerator(\n",
    "        rescale = 1/255,\n",
    "        shear_range=10,\n",
    "        zoom_range=0.3,\n",
    "        horizontal_flip=True,\n",
    "        vertical_flip=True,\n",
    "        brightness_range=[0.5,2.0],\n",
    "        width_shift_range = 0.2,\n",
    "        rotation_range=20,\n",
    "        fill_mode = 'nearest'\n",
    ")\n",
    "\n",
    "val_Datagen = ImageDataGenerator(\n",
    "        rescale = 1/255\n",
    ")\n",
    "\n",
    "train = img_Datagen.flow_from_directory(train_dir,\n",
    "                                       batch_size=32,\n",
    "                                       class_mode='binary',\n",
    "#                                        target_size=(224,224,3))\n",
    "                                       )\n",
    "\n",
    "validation = val_Datagen.flow_from_directory(val_dir,\n",
    "                                              batch_size=2,\n",
    "                                              class_mode='binary',\n",
    "#                                               target_size=(224,224,3))\n",
    "                                            )\n",
    "\n",
    "test = val_Datagen.flow_from_directory(test_dir,\n",
    "                                       batch_size=2,\n",
    "                                       class_mode='binary',\n",
    "#                                        target_size=(224/,224,3))\n",
    "                                      )\n",
    "\n"
   ]
  },
  {
   "cell_type": "code",
   "execution_count": null,
   "id": "bef30e16",
   "metadata": {},
   "outputs": [],
   "source": [
    "########################################### V G G 1 9 ####################################################"
   ]
  },
  {
   "cell_type": "code",
   "execution_count": 24,
   "id": "ad058154",
   "metadata": {},
   "outputs": [],
   "source": [
    "vgg_model = tf.keras.applications.VGG19(\n",
    "    weights='imagenet',\n",
    "    include_top = False,\n",
    "#     input_shape = (224,224,3)\n",
    ")\n",
    "\n",
    "for layer in vgg_model.layers:\n",
    "    layer.trainable=False\n",
    "    \n",
    "x = vgg_model.output\n",
    "x = tf.keras.layers.GlobalAveragePooling2D()(x)\n",
    "x = tf.keras.layers.Dense(128,activation='relu')(x)\n",
    "\n",
    "# output layer\n",
    "predictions = tf.keras.layers.Dense(1,activation='sigmoid')(x)\n",
    "\n",
    "model = tf.keras.Model(inputs=vgg_model.input, outputs=predictions)\n",
    "\n",
    "# to avoid overfitting\n",
    "early_stopping = tf.keras.callbacks.EarlyStopping(monitor='val_loss',patience=10)\n",
    "lr = tf.keras.callbacks.ReduceLROnPlateau(monitor='val_loss',patience=8)\n",
    "\n",
    "# Compiling the model\n",
    "\n",
    "# lo que nosotros entendemos es que el parametro que paso es para specificity\n",
    "# Como sensitivity es true positives y specificity son true negatives\n",
    "# nos parecio mas importante tener un sentitivity alto, dado que \"te dijimos que no tenias neumonia\" y si tenias, es el peor caso\n",
    "# por eso decidimos utilizar SensitivityAtSpecificity(0.5) con 0.5, dado que \n",
    "# un true negative en la mitad de los casos no es tan malo.\n",
    "#es preferible acertarble en la mayoria de los casos true positives \n",
    "\n",
    "#PREGUNTAAAAAAAAAAAAAAAAAAAAAAAAAAAAAAAAAAAAAAAAAAAAAAR PORQUE NO ENTIENDO NAAAAAAAAAAAAAAAAAAAAAAAAAAAAAH\n",
    "\n",
    "model.compile(loss='mse', optimizer='sgd',metrics=[tf.keras.metrics.SensitivityAtSpecificity(0.5)])"
   ]
  },
  {
   "cell_type": "code",
   "execution_count": 25,
   "id": "ec8f6616",
   "metadata": {},
   "outputs": [
    {
     "name": "stdout",
     "output_type": "stream",
     "text": [
      "Model: \"model_5\"\n",
      "_________________________________________________________________\n",
      " Layer (type)                Output Shape              Param #   \n",
      "=================================================================\n",
      " input_6 (InputLayer)        [(None, None, None, 3)]   0         \n",
      "                                                                 \n",
      " block1_conv1 (Conv2D)       (None, None, None, 64)    1792      \n",
      "                                                                 \n",
      " block1_conv2 (Conv2D)       (None, None, None, 64)    36928     \n",
      "                                                                 \n",
      " block1_pool (MaxPooling2D)  (None, None, None, 64)    0         \n",
      "                                                                 \n",
      " block2_conv1 (Conv2D)       (None, None, None, 128)   73856     \n",
      "                                                                 \n",
      " block2_conv2 (Conv2D)       (None, None, None, 128)   147584    \n",
      "                                                                 \n",
      " block2_pool (MaxPooling2D)  (None, None, None, 128)   0         \n",
      "                                                                 \n",
      " block3_conv1 (Conv2D)       (None, None, None, 256)   295168    \n",
      "                                                                 \n",
      " block3_conv2 (Conv2D)       (None, None, None, 256)   590080    \n",
      "                                                                 \n",
      " block3_conv3 (Conv2D)       (None, None, None, 256)   590080    \n",
      "                                                                 \n",
      " block3_conv4 (Conv2D)       (None, None, None, 256)   590080    \n",
      "                                                                 \n",
      " block3_pool (MaxPooling2D)  (None, None, None, 256)   0         \n",
      "                                                                 \n",
      " block4_conv1 (Conv2D)       (None, None, None, 512)   1180160   \n",
      "                                                                 \n",
      " block4_conv2 (Conv2D)       (None, None, None, 512)   2359808   \n",
      "                                                                 \n",
      " block4_conv3 (Conv2D)       (None, None, None, 512)   2359808   \n",
      "                                                                 \n",
      " block4_conv4 (Conv2D)       (None, None, None, 512)   2359808   \n",
      "                                                                 \n",
      " block4_pool (MaxPooling2D)  (None, None, None, 512)   0         \n",
      "                                                                 \n",
      " block5_conv1 (Conv2D)       (None, None, None, 512)   2359808   \n",
      "                                                                 \n",
      " block5_conv2 (Conv2D)       (None, None, None, 512)   2359808   \n",
      "                                                                 \n",
      " block5_conv3 (Conv2D)       (None, None, None, 512)   2359808   \n",
      "                                                                 \n",
      " block5_conv4 (Conv2D)       (None, None, None, 512)   2359808   \n",
      "                                                                 \n",
      " block5_pool (MaxPooling2D)  (None, None, None, 512)   0         \n",
      "                                                                 \n",
      " global_average_pooling2d_5   (None, 512)              0         \n",
      " (GlobalAveragePooling2D)                                        \n",
      "                                                                 \n",
      " dense_10 (Dense)            (None, 128)               65664     \n",
      "                                                                 \n",
      " dense_11 (Dense)            (None, 1)                 129       \n",
      "                                                                 \n",
      "=================================================================\n",
      "Total params: 20,090,177\n",
      "Trainable params: 65,793\n",
      "Non-trainable params: 20,024,384\n",
      "_________________________________________________________________\n"
     ]
    }
   ],
   "source": [
    "model.summary()"
   ]
  },
  {
   "cell_type": "code",
   "execution_count": 26,
   "id": "6b103aa4",
   "metadata": {},
   "outputs": [
    {
     "name": "stdout",
     "output_type": "stream",
     "text": [
      "Epoch 1/30\n",
      "100/100 [==============================] - 502s 5s/step - loss: 0.1883 - sensitivity_at_specificity_1: 0.4649 - val_loss: 0.3094 - val_sensitivity_at_specificity_1: 0.5000 - lr: 0.0100\n",
      "Epoch 2/30\n",
      "100/100 [==============================] - 504s 5s/step - loss: 0.1892 - sensitivity_at_specificity_1: 0.6150 - val_loss: 0.2952 - val_sensitivity_at_specificity_1: 0.8750 - lr: 0.0100\n",
      "Epoch 3/30\n",
      "100/100 [==============================] - 493s 5s/step - loss: 0.1843 - sensitivity_at_specificity_1: 0.7449 - val_loss: 0.3024 - val_sensitivity_at_specificity_1: 1.0000 - lr: 0.0100\n",
      "Epoch 4/30\n",
      "100/100 [==============================] - 511s 5s/step - loss: 0.1816 - sensitivity_at_specificity_1: 0.7715 - val_loss: 0.2968 - val_sensitivity_at_specificity_1: 1.0000 - lr: 0.0100\n",
      "Epoch 5/30\n",
      "100/100 [==============================] - 485s 5s/step - loss: 0.1787 - sensitivity_at_specificity_1: 0.8212 - val_loss: 0.2941 - val_sensitivity_at_specificity_1: 1.0000 - lr: 0.0100\n",
      "Epoch 6/30\n",
      "100/100 [==============================] - 454s 5s/step - loss: 0.1748 - sensitivity_at_specificity_1: 0.8406 - val_loss: 0.2672 - val_sensitivity_at_specificity_1: 1.0000 - lr: 0.0100\n",
      "Epoch 7/30\n",
      "100/100 [==============================] - 459s 5s/step - loss: 0.1745 - sensitivity_at_specificity_1: 0.8430 - val_loss: 0.2737 - val_sensitivity_at_specificity_1: 1.0000 - lr: 0.0100\n",
      "Epoch 8/30\n",
      "100/100 [==============================] - 450s 4s/step - loss: 0.1688 - sensitivity_at_specificity_1: 0.8551 - val_loss: 0.2781 - val_sensitivity_at_specificity_1: 1.0000 - lr: 0.0100\n",
      "Epoch 9/30\n",
      "100/100 [==============================] - 453s 5s/step - loss: 0.1665 - sensitivity_at_specificity_1: 0.8586 - val_loss: 0.2772 - val_sensitivity_at_specificity_1: 1.0000 - lr: 0.0100\n",
      "Epoch 10/30\n",
      "100/100 [==============================] - 449s 4s/step - loss: 0.1700 - sensitivity_at_specificity_1: 0.8519 - val_loss: 0.2496 - val_sensitivity_at_specificity_1: 1.0000 - lr: 0.0100\n",
      "Epoch 11/30\n",
      "100/100 [==============================] - 447s 4s/step - loss: 0.1652 - sensitivity_at_specificity_1: 0.8721 - val_loss: 0.2578 - val_sensitivity_at_specificity_1: 1.0000 - lr: 0.0100\n",
      "Epoch 12/30\n",
      "100/100 [==============================] - 452s 5s/step - loss: 0.1667 - sensitivity_at_specificity_1: 0.8780 - val_loss: 0.2527 - val_sensitivity_at_specificity_1: 1.0000 - lr: 0.0100\n",
      "Epoch 13/30\n",
      "100/100 [==============================] - 451s 5s/step - loss: 0.1635 - sensitivity_at_specificity_1: 0.8654 - val_loss: 0.2819 - val_sensitivity_at_specificity_1: 1.0000 - lr: 0.0100\n",
      "Epoch 14/30\n",
      "100/100 [==============================] - 441s 4s/step - loss: 0.1639 - sensitivity_at_specificity_1: 0.8549 - val_loss: 0.2452 - val_sensitivity_at_specificity_1: 1.0000 - lr: 0.0100\n",
      "Epoch 15/30\n",
      "100/100 [==============================] - 440s 4s/step - loss: 0.1604 - sensitivity_at_specificity_1: 0.8855 - val_loss: 0.2157 - val_sensitivity_at_specificity_1: 1.0000 - lr: 0.0100\n",
      "Epoch 16/30\n",
      "100/100 [==============================] - 438s 4s/step - loss: 0.1595 - sensitivity_at_specificity_1: 0.8682 - val_loss: 0.2651 - val_sensitivity_at_specificity_1: 1.0000 - lr: 0.0100\n",
      "Epoch 17/30\n",
      "100/100 [==============================] - 439s 4s/step - loss: 0.1614 - sensitivity_at_specificity_1: 0.8645 - val_loss: 0.2237 - val_sensitivity_at_specificity_1: 1.0000 - lr: 0.0100\n",
      "Epoch 18/30\n",
      "100/100 [==============================] - 438s 4s/step - loss: 0.1591 - sensitivity_at_specificity_1: 0.8949 - val_loss: 0.2214 - val_sensitivity_at_specificity_1: 1.0000 - lr: 0.0100\n",
      "Epoch 19/30\n",
      "100/100 [==============================] - 437s 4s/step - loss: 0.1570 - sensitivity_at_specificity_1: 0.8768 - val_loss: 0.2415 - val_sensitivity_at_specificity_1: 1.0000 - lr: 0.0100\n",
      "Epoch 20/30\n",
      "100/100 [==============================] - 435s 4s/step - loss: 0.1535 - sensitivity_at_specificity_1: 0.8885 - val_loss: 0.2195 - val_sensitivity_at_specificity_1: 1.0000 - lr: 0.0100\n",
      "Epoch 21/30\n",
      "100/100 [==============================] - 436s 4s/step - loss: 0.1546 - sensitivity_at_specificity_1: 0.8912 - val_loss: 0.2272 - val_sensitivity_at_specificity_1: 1.0000 - lr: 0.0100\n",
      "Epoch 22/30\n",
      "100/100 [==============================] - 436s 4s/step - loss: 0.1511 - sensitivity_at_specificity_1: 0.8871 - val_loss: 0.2440 - val_sensitivity_at_specificity_1: 1.0000 - lr: 0.0100\n",
      "Epoch 23/30\n",
      "100/100 [==============================] - 434s 4s/step - loss: 0.1541 - sensitivity_at_specificity_1: 0.8712 - val_loss: 0.2141 - val_sensitivity_at_specificity_1: 1.0000 - lr: 0.0100\n",
      "Epoch 24/30\n",
      "100/100 [==============================] - 434s 4s/step - loss: 0.1518 - sensitivity_at_specificity_1: 0.8914 - val_loss: 0.2072 - val_sensitivity_at_specificity_1: 1.0000 - lr: 0.0100\n",
      "Epoch 25/30\n",
      "100/100 [==============================] - 433s 4s/step - loss: 0.1543 - sensitivity_at_specificity_1: 0.8764 - val_loss: 0.2207 - val_sensitivity_at_specificity_1: 1.0000 - lr: 0.0100\n",
      "Epoch 26/30\n",
      "100/100 [==============================] - 433s 4s/step - loss: 0.1510 - sensitivity_at_specificity_1: 0.8853 - val_loss: 0.2130 - val_sensitivity_at_specificity_1: 1.0000 - lr: 0.0100\n",
      "Epoch 27/30\n",
      "100/100 [==============================] - 433s 4s/step - loss: 0.1481 - sensitivity_at_specificity_1: 0.8938 - val_loss: 0.2136 - val_sensitivity_at_specificity_1: 1.0000 - lr: 0.0100\n",
      "Epoch 28/30\n",
      "100/100 [==============================] - 432s 4s/step - loss: 0.1483 - sensitivity_at_specificity_1: 0.8825 - val_loss: 0.2216 - val_sensitivity_at_specificity_1: 1.0000 - lr: 0.0100\n",
      "Epoch 29/30\n",
      "100/100 [==============================] - 432s 4s/step - loss: 0.1498 - sensitivity_at_specificity_1: 0.8883 - val_loss: 0.2184 - val_sensitivity_at_specificity_1: 1.0000 - lr: 0.0100\n",
      "Epoch 30/30\n",
      "100/100 [==============================] - 433s 4s/step - loss: 0.1444 - sensitivity_at_specificity_1: 0.8999 - val_loss: 0.1959 - val_sensitivity_at_specificity_1: 1.0000 - lr: 0.0100\n"
     ]
    }
   ],
   "source": [
    "history = model.fit(train,epochs=30, \n",
    "                    validation_data=validation,\n",
    "                     steps_per_epoch=100,\n",
    "                    callbacks=[early_stopping,lr],\n",
    "                    batch_size=32)"
   ]
  },
  {
   "cell_type": "code",
   "execution_count": null,
   "id": "02961662",
   "metadata": {},
   "outputs": [],
   "source": [
    "# Evaluating the model on train and test\n",
    "score = model.evaluate(train)\n",
    "print(score)\n",
    "\n",
    "print(\"Train Loss: \", score[0])\n",
    "print(\"Train Accuracy: \", score[1])"
   ]
  },
  {
   "cell_type": "code",
   "execution_count": null,
   "id": "e7c73bc5",
   "metadata": {},
   "outputs": [],
   "source": [
    "# Test data\n",
    "score = model.evaluate(test)\n",
    "\n",
    "print(\"Test Loss: \", score[0])\n",
    "print(\"Test Accuracy: \", score[1])"
   ]
  },
  {
   "cell_type": "code",
   "execution_count": null,
   "id": "6ae8db3e",
   "metadata": {},
   "outputs": [],
   "source": [
    "plt.figure(figsize=(12, 8))\n",
    "plt.title('EVALUATION OF VGG19')\n",
    "\n",
    "plt.subplot(2, 2, 1)\n",
    "plt.plot(history.history['loss'], label='Loss')\n",
    "plt.plot(history.history['val_loss'], label='Val_Loss')\n",
    "plt.legend()\n",
    "plt.title('Loss Evolution')\n",
    "\n",
    "plt.subplot(2, 2, 2)\n",
    "plt.plot(history.history['accuracy'], label='Accuracy')\n",
    "plt.plot(history.history['val_accuracy'], label='Val_Accuracy')\n",
    "plt.legend()\n",
    "plt.title('Accuracy Evolution')"
   ]
  },
  {
   "cell_type": "code",
   "execution_count": null,
   "id": "8dc513d6",
   "metadata": {},
   "outputs": [],
   "source": [
    "###################################### X C E P T I O N ###############################################"
   ]
  },
  {
   "cell_type": "code",
   "execution_count": null,
   "id": "21f51a4d",
   "metadata": {},
   "outputs": [],
   "source": [
    "'''\n",
    "INVESTIGAR QUE PORONGA HACE CADA PARAMETRO\n",
    "tf.keras.applications.xception.Xception(\n",
    "    include_top=True,\n",
    "    weights='imagenet',\n",
    "    input_tensor=None,\n",
    "    input_shape=None,\n",
    "    pooling=None,\n",
    "    classes=1000,\n",
    "    classifier_activation='softmax'\n",
    ")\n",
    "'''\n",
    "\n",
    "xception_model = tf.keras.applications.Xception(\n",
    "    weights='imagenet',\n",
    "    include_top = False,\n",
    "#     input_shape = (224,224,3)\n",
    ")\n",
    "\n",
    "for layer in xception_model.layers:\n",
    "    layer.trainable=False\n",
    "    \n",
    "x = xception_model.output\n",
    "x = tf.keras.layers.GlobalAveragePooling2D()(x)\n",
    "x = tf.keras.layers.Dense(128,activation='relu')(x)\n",
    "\n",
    "# output layer\n",
    "predictions = tf.keras.layers.Dense(1,activation='sigmoid')(x)\n",
    "\n",
    "model = tf.keras.Model(inputs=xception_model.input, outputs=predictions)\n",
    "\n",
    "# to avoid overfitting\n",
    "early_stopping = tf.keras.callbacks.EarlyStopping(monitor='val_loss',patience=10)\n",
    "lr = tf.keras.callbacks.ReduceLROnPlateau(monitor='val_loss',patience=8)\n",
    "\n",
    "# Compiling the model\n",
    "#PREGUNTAAAAAAAAAAAAAAAAAAAAAAAAAAAAAAAAAAAAAAAAAAAAAAR PORQUE NO ENTIENDO NAAAAAAAAAAAAAAAAAAAAAAAAAAAAAH\n",
    "\n",
    "#QUE DIFERENCIA TIENE LA REGRESION ACA? NO ENTIENDO\n",
    "\n",
    "#model.compile(loss='binary_crossentropy', optimizer='sgd',metrics=[tf.keras.metrics.SensitivityAtSpecificity(0.5)])\n",
    "model.compile(loss='mse', optimizer='sgd',metrics=[tf.keras.metrics.SensitivityAtSpecificity(0.5)])"
   ]
  },
  {
   "cell_type": "code",
   "execution_count": null,
   "id": "b0f5ddb1",
   "metadata": {},
   "outputs": [],
   "source": [
    "###################################### I N C E P T I O N   V 3  ###############################################"
   ]
  },
  {
   "cell_type": "code",
   "execution_count": null,
   "id": "37bc24a5",
   "metadata": {},
   "outputs": [],
   "source": [
    "'''\n",
    "\n",
    "'''\n",
    "\n",
    "inceptionv3_model = tf.keras.applications.InceptionV3(\n",
    "    weights='imagenet',\n",
    "    include_top = False,\n",
    "#     input_shape = (224,224,3)\n",
    ")\n",
    "\n",
    "for layer in inceptionv3_model.layers:\n",
    "    layer.trainable=False\n",
    "    \n",
    "x = inceptionv3_model.output\n",
    "x = tf.keras.layers.GlobalAveragePooling2D()(x)\n",
    "x = tf.keras.layers.Dense(128,activation='relu')(x)\n",
    "\n",
    "# output layer\n",
    "predictions = tf.keras.layers.Dense(1,activation='sigmoid')(x)\n",
    "\n",
    "model = tf.keras.Model(inputs=inceptionv3_model.input, outputs=predictions)\n",
    "\n",
    "# to avoid overfitting\n",
    "early_stopping = tf.keras.callbacks.EarlyStopping(monitor='val_loss',patience=10)\n",
    "lr = tf.keras.callbacks.ReduceLROnPlateau(monitor='val_loss',patience=8)\n",
    "\n",
    "# Compiling the model\n",
    "#PREGUNTAAAAAAAAAAAAAAAAAAAAAAAAAAAAAAAAAAAAAAAAAAAAAAR PORQUE NO ENTIENDO NAAAAAAAAAAAAAAAAAAAAAAAAAAAAAH\n",
    "\n",
    "#QUE DIFERENCIA TIENE LA REGRESION ACA? NO ENTIENDO\n",
    "\n",
    "#model.compile(loss='binary_crossentropy', optimizer='sgd',metrics=[tf.keras.metrics.SensitivityAtSpecificity(0.5)])\n",
    "model.compile(loss='mse', optimizer='sgd',metrics=[tf.keras.metrics.SensitivityAtSpecificity(0.5)])"
   ]
  },
  {
   "cell_type": "code",
   "execution_count": null,
   "id": "3c467c0a",
   "metadata": {},
   "outputs": [],
   "source": [
    "###################################### R E S N E T   50  ###############################################"
   ]
  },
  {
   "cell_type": "code",
   "execution_count": null,
   "id": "dd6b3c47",
   "metadata": {},
   "outputs": [],
   "source": [
    "'''\n",
    "\n",
    "'''\n",
    "\n",
    "resnet50_model = tf.keras.applications.ResNet50(\n",
    "    weights='imagenet',\n",
    "    include_top = False,\n",
    "#     input_shape = (224,224,3)\n",
    ")\n",
    "\n",
    "for layer in resnet50_model.layers:\n",
    "    layer.trainable=False\n",
    "    \n",
    "x = resnet50_model.output\n",
    "x = tf.keras.layers.GlobalAveragePooling2D()(x)\n",
    "x = tf.keras.layers.Dense(128,activation='relu')(x)\n",
    "\n",
    "# output layer\n",
    "predictions = tf.keras.layers.Dense(1,activation='sigmoid')(x)\n",
    "\n",
    "model = tf.keras.Model(inputs=resnet50_model.input, outputs=predictions)\n",
    "\n",
    "# to avoid overfitting\n",
    "early_stopping = tf.keras.callbacks.EarlyStopping(monitor='val_loss',patience=10)\n",
    "lr = tf.keras.callbacks.ReduceLROnPlateau(monitor='val_loss',patience=8)\n",
    "\n",
    "# Compiling the model\n",
    "#PREGUNTAAAAAAAAAAAAAAAAAAAAAAAAAAAAAAAAAAAAAAAAAAAAAAR PORQUE NO ENTIENDO NAAAAAAAAAAAAAAAAAAAAAAAAAAAAAH\n",
    "\n",
    "#QUE DIFERENCIA TIENE LA REGRESION ACA? NO ENTIENDO\n",
    "\n",
    "#model.compile(loss='binary_crossentropy', optimizer='sgd',metrics=[tf.keras.metrics.SensitivityAtSpecificity(0.5)])\n",
    "model.compile(loss='mse', optimizer='sgd',metrics=[tf.keras.metrics.SensitivityAtSpecificity(0.5)])"
   ]
  }
 ],
 "metadata": {
  "kernelspec": {
   "display_name": "Python 3 (ipykernel)",
   "language": "python",
   "name": "python3"
  },
  "language_info": {
   "codemirror_mode": {
    "name": "ipython",
    "version": 3
   },
   "file_extension": ".py",
   "mimetype": "text/x-python",
   "name": "python",
   "nbconvert_exporter": "python",
   "pygments_lexer": "ipython3",
   "version": "3.8.10"
  }
 },
 "nbformat": 4,
 "nbformat_minor": 5
}
